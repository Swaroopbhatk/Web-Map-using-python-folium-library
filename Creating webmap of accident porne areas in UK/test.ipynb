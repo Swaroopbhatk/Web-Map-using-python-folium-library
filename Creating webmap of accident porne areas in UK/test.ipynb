{
 "cells": [
  {
   "cell_type": "code",
   "execution_count": 49,
   "metadata": {},
   "outputs": [
    {
     "name": "stderr",
     "output_type": "stream",
     "text": [
      "C:\\Users\\Swaroop Bhat\\AppData\\Local\\Programs\\Python\\Python36-32\\lib\\site-packages\\ipykernel_launcher.py:2: ParserWarning: Both a converter and dtype were specified for column Accident_Severity - only the converter will be used\n",
      "  \n"
     ]
    },
    {
     "data": {
      "text/plain": [
       "(136621, 32)"
      ]
     },
     "execution_count": 49,
     "metadata": {},
     "output_type": "execute_result"
    }
   ],
   "source": [
    "import pandas\n",
    "data = pandas.read_csv(\"Accidents.csv\", sep=',', error_bad_lines=False, index_col=False, dtype='unicode')"
   ]
  },
  {
   "cell_type": "code",
   "execution_count": 102,
   "metadata": {},
   "outputs": [
    {
     "data": {
      "text/plain": [
       "Accident_Index                                 2016210125234\n",
       "Location_Easting_OSGR                                    NaN\n",
       "Location_Northing_OSGR                                   NaN\n",
       "Longitude                                                NaN\n",
       "Latitude                                                 NaN\n",
       "Police_Force                                              21\n",
       "Accident_Severity                                          2\n",
       "Number_of_Vehicles                                         2\n",
       "Number_of_Casualties                                       1\n",
       "Date                                              07/11/2016\n",
       "Day_of_Week                                                2\n",
       "Time                                                   06:00\n",
       "Local_Authority_(District)                               255\n",
       "Local_Authority_(Highway)                          E10000028\n",
       "1st_Road_Class                                             6\n",
       "1st_Road_Number                                            0\n",
       "Road_Type                                                  6\n",
       "Speed_limit                                               30\n",
       "Junction_Detail                                            0\n",
       "Junction_Control                                          -1\n",
       "2nd_Road_Class                                            -1\n",
       "2nd_Road_Number                                            0\n",
       "Pedestrian_Crossing-Human_Control                          0\n",
       "Pedestrian_Crossing-Physical_Facilities                    0\n",
       "Light_Conditions                                           4\n",
       "Weather_Conditions                                         1\n",
       "Road_Surface_Conditions                                    2\n",
       "Special_Conditions_at_Site                                 0\n",
       "Carriageway_Hazards                                        0\n",
       "Urban_or_Rural_Area                                        3\n",
       "Did_Police_Officer_Attend_Scene_of_Accident                1\n",
       "LSOA_of_Accident_Location                                NaN\n",
       "Name: 62592, dtype: object"
      ]
     },
     "execution_count": 102,
     "metadata": {},
     "output_type": "execute_result"
    }
   ],
   "source": [
    "import numpy\n",
    "data.Longitude = data.Longitude.astype(float)\n",
    "data.Latitude = data.Latitude.astype(float)\n",
    "numpy.where(data.Longitude.isna())\n",
    "data.iloc[62592, ]"
   ]
  },
  {
   "cell_type": "code",
   "execution_count": 107,
   "metadata": {},
   "outputs": [],
   "source": [
    "from sklearn.model_selection import train_test_split\n",
    "RANDOM_SEED = 5\n",
    "train, test = train_test_split(data, test_size=0.06)"
   ]
  },
  {
   "cell_type": "code",
   "execution_count": 108,
   "metadata": {},
   "outputs": [
    {
     "data": {
      "text/plain": [
       "(8198, 32)"
      ]
     },
     "execution_count": 108,
     "metadata": {},
     "output_type": "execute_result"
    }
   ],
   "source": [
    "location = test\n",
    "location = location.reset_index(drop=True)\n",
    "location.shape"
   ]
  },
  {
   "cell_type": "code",
   "execution_count": 94,
   "metadata": {},
   "outputs": [
    {
     "data": {
      "text/plain": [
       "(array([], dtype=int32),)"
      ]
     },
     "execution_count": 94,
     "metadata": {},
     "output_type": "execute_result"
    }
   ],
   "source": [
    "numpy.where(location.Latitude.isna())"
   ]
  }
 ],
 "metadata": {
  "kernelspec": {
   "display_name": "Python 3",
   "language": "python",
   "name": "python3"
  },
  "language_info": {
   "codemirror_mode": {
    "name": "ipython",
    "version": 3
   },
   "file_extension": ".py",
   "mimetype": "text/x-python",
   "name": "python",
   "nbconvert_exporter": "python",
   "pygments_lexer": "ipython3",
   "version": "3.6.0"
  }
 },
 "nbformat": 4,
 "nbformat_minor": 1
}
